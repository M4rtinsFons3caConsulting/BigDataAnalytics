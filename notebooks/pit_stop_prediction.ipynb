{
 "cells": [
  {
   "cell_type": "markdown",
   "id": "c333f740",
   "metadata": {},
   "source": [
    "# **F1 Pit Stop Prediction**"
   ]
  },
  {
   "cell_type": "markdown",
   "id": "f387603e",
   "metadata": {},
   "source": [
    "## Libraries"
   ]
  },
  {
   "cell_type": "code",
   "execution_count": 1,
   "id": "f41a0a0d",
   "metadata": {},
   "outputs": [],
   "source": [
    "import os\n",
    "\n",
    "from pyspark.sql import SparkSession\n",
    "from pyspark.sql.functions import input_file_name, regexp_extract, regexp_replace, col, when, to_timestamp, lead, avg, stddev, lag, max, sum, first, last, split, coalesce, lit\n",
    "from pyspark.sql.types import IntegerType, BooleanType, FloatType\n",
    "from pyspark.sql.window import Window\n",
    "\n",
    "from pyspark.ml import Pipeline\n",
    "from pyspark.ml.classification import RandomForestClassifier\n",
    "from pyspark.ml.feature import VectorAssembler, StringIndexer\n",
    "from pyspark.ml.evaluation import BinaryClassificationEvaluator\n",
    "\n",
    "os.chdir(os.path.abspath(os.path.join(os.getcwd(), \"..\", \"scripts\")))\n",
    "from constants import LAPS, TELEMETRY\n",
    "# from preprocessing import add_pit_stop_label, engineer_features"
   ]
  },
  {
   "cell_type": "markdown",
   "id": "278ad450",
   "metadata": {},
   "source": [
    "## Data Loading"
   ]
  },
  {
   "cell_type": "code",
   "execution_count": 2,
   "id": "9db9391d",
   "metadata": {},
   "outputs": [
    {
     "name": "stderr",
     "output_type": "stream",
     "text": [
      "Setting default log level to \"WARN\".\n",
      "To adjust logging level use sc.setLogLevel(newLevel). For SparkR, use setLogLevel(newLevel).\n",
      "25/05/09 20:41:35 WARN NativeCodeLoader: Unable to load native-hadoop library for your platform... using builtin-java classes where applicable\n"
     ]
    }
   ],
   "source": [
    "# Initialize Spark Session\n",
    "spark = SparkSession.builder \\\n",
    "    .appName(\"Lap Data Aggregation\") \\\n",
    "    .master(\"local[*]\") \\\n",
    "    .config(\"spark.driver.memory\", \"12g\") \\\n",
    "    .config(\"spark.executor.memory\", \"12g\") \\\n",
    "    .getOrCreate()"
   ]
  },
  {
   "cell_type": "code",
   "execution_count": 3,
   "id": "bdb59c70",
   "metadata": {},
   "outputs": [
    {
     "name": "stderr",
     "output_type": "stream",
     "text": [
      "                                                                                \r"
     ]
    }
   ],
   "source": [
    "# Load all CSVs into a Spark DataFrame\n",
    "lap_data = spark.read.option(\"header\", True).csv(os.path.join(LAPS, \"*.csv\"))\n",
    "telemetry_data = spark.read.option(\"header\", True).csv(os.path.join(TELEMETRY, \"*.csv\"))"
   ]
  },
  {
   "cell_type": "markdown",
   "id": "1946ae3e",
   "metadata": {},
   "source": [
    "## Data Preprocessing"
   ]
  },
  {
   "cell_type": "markdown",
   "id": "d8851a65",
   "metadata": {},
   "source": [
    "### Lap Data"
   ]
  },
  {
   "cell_type": "code",
   "execution_count": 4,
   "id": "8fb59a0b",
   "metadata": {},
   "outputs": [],
   "source": [
    "# Extract the file name from the file path\n",
    "file_name_col = input_file_name()"
   ]
  },
  {
   "cell_type": "code",
   "execution_count": 5,
   "id": "73e9cfcf",
   "metadata": {},
   "outputs": [],
   "source": [
    "# Extract the event name and session from the file name\n",
    "lap_data = (\n",
    "    lap_data\n",
    "    .withColumn(\"Year\", regexp_extract(file_name_col, r\"/(\\d{4})_[^/]+_[QR]\\.csv$\", 1))\n",
    "    .withColumn(\"EventName\", regexp_replace(regexp_extract(file_name_col, r\"/\\d{4}_(.+)_[QR]\\.csv$\", 1), \"_\", \" \"))\n",
    "    .withColumn(\"Session\", regexp_extract(file_name_col, r\"/\\d{4}_[^/]+_([QR])\\.csv$\", 1))\n",
    ")"
   ]
  },
  {
   "cell_type": "code",
   "execution_count": 6,
   "id": "4f827b27",
   "metadata": {},
   "outputs": [
    {
     "name": "stderr",
     "output_type": "stream",
     "text": [
      "25/05/09 20:41:43 WARN SparkStringUtils: Truncated the string representation of a plan since it was too large. This behavior can be adjusted by setting 'spark.sql.debug.maxToStringFields'.\n"
     ]
    }
   ],
   "source": [
    "# Create sql view\n",
    "lap_data.createOrReplaceTempView(\"laps\")\n",
    "\n",
    "# Filter for only Race sessions\n",
    "lap_data = spark.sql(\"\"\"\n",
    "    SELECT *\n",
    "    FROM laps\n",
    "    WHERE Session = 'R'\n",
    "\"\"\")"
   ]
  },
  {
   "cell_type": "markdown",
   "id": "e6b7abdd",
   "metadata": {},
   "source": [
    "**Fixing Datatypes**"
   ]
  },
  {
   "cell_type": "code",
   "execution_count": 7,
   "id": "8454b80e",
   "metadata": {},
   "outputs": [],
   "source": [
    "# # Check datatypes\n",
    "# lap_data.printSchema()"
   ]
  },
  {
   "cell_type": "code",
   "execution_count": 8,
   "id": "7142a040",
   "metadata": {},
   "outputs": [],
   "source": [
    "# Fix datatypes\n",
    "lap_data = (\n",
    "    lap_data\n",
    "    .withColumn(\"LapSessionTime\", regexp_replace(col(\"Time\"), r\"^0 days \", \"\"))\n",
    "    .withColumn(\"DriverNumber\", col(\"DriverNumber\").cast(IntegerType()))\n",
    "    .withColumn(\"LapTime\", split(regexp_replace(col(\"LapTime\"), r\"^0 days \", \"\"), \":\").getItem(0).cast(\"int\") * 3600 +\n",
    "        split(regexp_replace(col(\"LapTime\"), r\"^0 days \", \"\"), \":\").getItem(1).cast(\"int\") * 60 +\n",
    "        split(regexp_replace(col(\"LapTime\"), r\"^0 days \", \"\"), \":\").getItem(2).cast(\"double\")\n",
    "    )\n",
    "    .withColumn(\"LapNumber\", col(\"LapNumber\").cast(IntegerType()))\n",
    "    .withColumn(\"Stint\", col(\"Stint\").cast(IntegerType()))\n",
    "    .withColumn(\"PitOutTime\", split(regexp_replace(col(\"PitOutTime\"), r\"^0 days \", \"\"), \":\").getItem(0).cast(\"int\") * 3600 +\n",
    "        split(regexp_replace(col(\"PitOutTime\"), r\"^0 days \", \"\"), \":\").getItem(1).cast(\"int\") * 60 +\n",
    "        split(regexp_replace(col(\"PitOutTime\"), r\"^0 days \", \"\"), \":\").getItem(2).cast(\"double\")\n",
    "    )\n",
    "    .withColumn(\"PitInTime\", split(regexp_replace(col(\"PitInTime\"), r\"^0 days \", \"\"), \":\").getItem(0).cast(\"int\") * 3600 +\n",
    "        split(regexp_replace(col(\"PitInTime\"), r\"^0 days \", \"\"), \":\").getItem(1).cast(\"int\") * 60 +\n",
    "        split(regexp_replace(col(\"PitInTime\"), r\"^0 days \", \"\"), \":\").getItem(2).cast(\"double\")\n",
    "    )\n",
    "    .withColumn(\"Sector1Time\", split(regexp_replace(col(\"Sector1Time\"), r\"^0 days \", \"\"), \":\").getItem(0).cast(\"int\") * 3600 +\n",
    "        split(regexp_replace(col(\"Sector1Time\"), r\"^0 days \", \"\"), \":\").getItem(1).cast(\"int\") * 60 +\n",
    "        split(regexp_replace(col(\"Sector1Time\"), r\"^0 days \", \"\"), \":\").getItem(2).cast(\"double\")\n",
    "    )\n",
    "    .withColumn(\"Sector2Time\", split(regexp_replace(col(\"Sector2Time\"), r\"^0 days \", \"\"), \":\").getItem(0).cast(\"int\") * 3600 +\n",
    "        split(regexp_replace(col(\"Sector2Time\"), r\"^0 days \", \"\"), \":\").getItem(1).cast(\"int\") * 60 +\n",
    "        split(regexp_replace(col(\"Sector2Time\"), r\"^0 days \", \"\"), \":\").getItem(2).cast(\"double\")\n",
    "    )\n",
    "    .withColumn(\"Sector3Time\", split(regexp_replace(col(\"Sector3Time\"), r\"^0 days \", \"\"), \":\").getItem(0).cast(\"int\") * 3600 +\n",
    "        split(regexp_replace(col(\"Sector3Time\"), r\"^0 days \", \"\"), \":\").getItem(1).cast(\"int\") * 60 +\n",
    "        split(regexp_replace(col(\"Sector3Time\"), r\"^0 days \", \"\"), \":\").getItem(2).cast(\"double\")\n",
    "    )\n",
    "    .withColumn(\"Sector1SessionTime\", split(regexp_replace(col(\"Sector1SessionTime\"), r\"^0 days \", \"\"), \":\").getItem(0).cast(\"int\") * 3600 +\n",
    "        split(regexp_replace(col(\"Sector1SessionTime\"), r\"^0 days \", \"\"), \":\").getItem(1).cast(\"int\") * 60 +\n",
    "        split(regexp_replace(col(\"Sector1SessionTime\"), r\"^0 days \", \"\"), \":\").getItem(2).cast(\"double\")\n",
    "    )\n",
    "    .withColumn(\"Sector2SessionTime\", split(regexp_replace(col(\"Sector2SessionTime\"), r\"^0 days \", \"\"), \":\").getItem(0).cast(\"int\") * 3600 +\n",
    "        split(regexp_replace(col(\"Sector2SessionTime\"), r\"^0 days \", \"\"), \":\").getItem(1).cast(\"int\") * 60 +\n",
    "        split(regexp_replace(col(\"Sector2SessionTime\"), r\"^0 days \", \"\"), \":\").getItem(2).cast(\"double\")\n",
    "    )\n",
    "    .withColumn(\"Sector3SessionTime\", split(regexp_replace(col(\"Sector3SessionTime\"), r\"^0 days \", \"\"), \":\").getItem(0).cast(\"int\") * 3600 +\n",
    "        split(regexp_replace(col(\"Sector3SessionTime\"), r\"^0 days \", \"\"), \":\").getItem(1).cast(\"int\") * 60 +\n",
    "        split(regexp_replace(col(\"Sector3SessionTime\"), r\"^0 days \", \"\"), \":\").getItem(2).cast(\"double\")\n",
    "    )\n",
    "    .withColumn(\"SpeedI1\", col(\"SpeedI1\").cast(IntegerType()))\n",
    "    .withColumn(\"SpeedI2\", col(\"SpeedI2\").cast(IntegerType()))\n",
    "    .withColumn(\"SpeedFL\", col(\"SpeedFL\").cast(IntegerType()))\n",
    "    .withColumn(\"SpeedST\", col(\"SpeedST\").cast(IntegerType()))\n",
    "    .withColumn(\"IsPersonalBest\", col(\"IsPersonalBest\").cast(BooleanType()))\n",
    "    .withColumn(\"TyreLife\", col(\"TyreLife\").cast(IntegerType()))\n",
    "    .withColumn(\"FreshTyre\", col(\"FreshTyre\").cast(BooleanType()))\n",
    "    .withColumn(\"LapStartTime\", split(regexp_replace(col(\"LapStartTime\"), r\"^0 days \", \"\"), \":\").getItem(0).cast(\"int\") * 3600 +\n",
    "        split(regexp_replace(col(\"LapStartTime\"), r\"^0 days \", \"\"), \":\").getItem(1).cast(\"int\") * 60 +\n",
    "        split(regexp_replace(col(\"LapStartTime\"), r\"^0 days \", \"\"), \":\").getItem(2).cast(\"double\")\n",
    "    )\n",
    "    .withColumn(\"LapStartDate\", to_timestamp(\"LapStartDate\", \"yyyy-MM-dd HH:mm:ss.SSS\"))\n",
    "    .withColumn(\"TrackStatus\", col(\"TrackStatus\").cast(IntegerType()))\n",
    "    .withColumn(\"Position\", col(\"Position\").cast(IntegerType()))\n",
    "    .withColumn(\"Deleted\", col(\"Deleted\").cast(BooleanType()))\n",
    "    .withColumn(\"FastF1Generated\", col(\"FastF1Generated\").cast(BooleanType()))\n",
    "    .withColumn(\"IsAccurate\", col(\"IsAccurate\").cast(BooleanType()))\n",
    "    .withColumn(\"Year\", col(\"Year\").cast(IntegerType()))\n",
    "    .withColumn(\"LapSessionTime\", split(regexp_replace(col(\"Time\"), r\"^0 days \", \"\"), \":\").getItem(0).cast(\"int\") * 3600 +\n",
    "        split(regexp_replace(col(\"Time\"), r\"^0 days \", \"\"), \":\").getItem(1).cast(\"int\") * 60 +\n",
    "        split(regexp_replace(col(\"Time\"), r\"^0 days \", \"\"), \":\").getItem(2).cast(\"double\")\n",
    "    )\n",
    ")\n",
    "\n",
    "lap_data = lap_data.drop(col(\"Time\"))"
   ]
  },
  {
   "cell_type": "code",
   "execution_count": 9,
   "id": "7b1fac9c",
   "metadata": {},
   "outputs": [],
   "source": [
    "# # Show the result\n",
    "# lap_data.show(1)"
   ]
  },
  {
   "cell_type": "markdown",
   "id": "a4ace846",
   "metadata": {},
   "source": [
    "**Feature Engineering**"
   ]
  },
  {
   "cell_type": "code",
   "execution_count": 10,
   "id": "cdf73b26",
   "metadata": {},
   "outputs": [],
   "source": [
    "# Define windows\n",
    "start_position_window = Window.partitionBy(\"Year\", \"EventName\", \"Driver\")\n",
    "lap_order_window = start_position_window.orderBy(\"LapNumber\")"
   ]
  },
  {
   "cell_type": "code",
   "execution_count": 11,
   "id": "0524bfa1",
   "metadata": {},
   "outputs": [],
   "source": [
    "# Creating new features\n",
    "lap_data = (\n",
    "    lap_data\n",
    "    .withColumn(\"rolling_avg_laptime\", avg(\"LapTime\").over(lap_order_window.rowsBetween(Window.unboundedPreceding, 0)))\n",
    "    .withColumn(\"pit_in_lap\", when(col(\"PitInTime\").isNotNull(), 1).otherwise(0))\n",
    "    .withColumn(\"pit_exit_lap\", when(col(\"PitOutTime\").isNotNull(), 1).otherwise(0))\n",
    "    .withColumn(\n",
    "        \"last_pit_lap\",\n",
    "        coalesce(\n",
    "            max(\"pit_exit_lap\").over(lap_order_window.rowsBetween(Window.unboundedPreceding, 0)),\n",
    "            lit(0)\n",
    "        )\n",
    "    )\n",
    "    .withColumn(\"laps_since_last_pit\", col(\"LapNumber\") - col(\"last_pit_lap\"))\n",
    "    .withColumn(\n",
    "        \"prev_compound\", \n",
    "        when(\n",
    "            col(\"LapNumber\") == 1, col(\"Compound\")\n",
    "        ).otherwise(\n",
    "            lag(\"Compound\").over(lap_order_window)\n",
    "        )\n",
    "    )\n",
    "    .withColumn(\n",
    "        \"pit_stop_duration\",\n",
    "        when(\n",
    "            col(\"PitOutTime\").isNull(),\n",
    "            lit(0)\n",
    "        ).otherwise(\n",
    "            col(\"PitOutTime\") - lag(\"PitInTime\").over(lap_order_window)\n",
    "        )\n",
    "    )\n",
    "    .withColumn(\"max_pit_stop_duration\", max(\"pit_stop_duration\").over(lap_order_window))\n",
    "    .withColumn(\"start_position\", first(when(col(\"LapNumber\") == 1, col(\"Position\")), ignorenulls=True).over(start_position_window))\n",
    "    .withColumn(\"position_change_since_race_start\", col(\"start_position\") - col(\"Position\"))\n",
    "    .withColumn(\n",
    "        \"fastest_sector\", when(\n",
    "            (col(\"Sector1Time\") <= col(\"Sector2Time\")) & (col(\"Sector1Time\") <= col(\"Sector3Time\")), 1\n",
    "        ).when(\n",
    "            (col(\"Sector2Time\") <= col(\"Sector1Time\")) & (col(\"Sector2Time\") <= col(\"Sector3Time\")), 2\n",
    "        ).otherwise(3)\n",
    "    )\n",
    ")\n",
    "\n",
    "lap_data = lap_data.drop(\"Sector1SessionTime\", \"Sector2SessionTime\", \"Sector3SessionTime\", \"DeletedReason\", \"IsAccurate\", \"LapStartDate\")"
   ]
  },
  {
   "cell_type": "code",
   "execution_count": 12,
   "id": "48d5b2f2",
   "metadata": {},
   "outputs": [],
   "source": [
    "# lap_data.show(1)"
   ]
  },
  {
   "cell_type": "markdown",
   "id": "8fdd1d0c",
   "metadata": {},
   "source": [
    "### Telemetry Data"
   ]
  },
  {
   "cell_type": "code",
   "execution_count": 13,
   "id": "63af09b7",
   "metadata": {},
   "outputs": [],
   "source": [
    "# Extract the file name from the file path\n",
    "file_name_col = input_file_name()\n",
    "\n",
    "# Extract the event name and session from the file name\n",
    "telemetry_data = (\n",
    "    telemetry_data\n",
    "    .withColumn(\"Year\", regexp_extract(file_name_col, r\"/(\\d{4})_[^/]+_[QR]\\.csv$\", 1))\n",
    "    .withColumn(\"EventName\", regexp_replace(regexp_extract(file_name_col, r\"/\\d{4}_(.+)_[QR]\\.csv$\", 1), \"_\", \" \"))\n",
    "    .withColumn(\"Session\", regexp_extract(file_name_col, r\"/\\d{4}_[^/]+_([QR])\\.csv$\", 1))\n",
    ")"
   ]
  },
  {
   "cell_type": "code",
   "execution_count": 14,
   "id": "2f14c4ff",
   "metadata": {},
   "outputs": [],
   "source": [
    "# Create sql view\n",
    "telemetry_data.createOrReplaceTempView(\"telemetry\")\n",
    "\n",
    "# Filter for only Race events\n",
    "telemetry_data = spark.sql(\"\"\"\n",
    "    SELECT *\n",
    "    FROM telemetry\n",
    "    WHERE Session = 'R'\n",
    "\"\"\")"
   ]
  },
  {
   "cell_type": "markdown",
   "id": "5451a441",
   "metadata": {},
   "source": [
    "**Fixing Datatypes**"
   ]
  },
  {
   "cell_type": "code",
   "execution_count": 15,
   "id": "2936752f",
   "metadata": {},
   "outputs": [],
   "source": [
    "# # Check datatypes\n",
    "# telemetry_data.printSchema()"
   ]
  },
  {
   "cell_type": "code",
   "execution_count": 16,
   "id": "0660d3dc",
   "metadata": {},
   "outputs": [],
   "source": [
    "telemetry_data = (\n",
    "    telemetry_data\n",
    "    .withColumn(\"Date\", to_timestamp(\"Date\", \"yyyy-MM-dd HH:mm:ss.SSS\"))\n",
    "    .withColumn(\"RPM\", col(\"RPM\").cast(IntegerType()))\n",
    "    .withColumn(\"Speed\", col(\"Speed\").cast(IntegerType()))\n",
    "    .withColumn(\"nGear\", col(\"nGear\").cast(IntegerType()))\n",
    "    .withColumn(\"Throttle\", col(\"Throttle\").cast(IntegerType()))\n",
    "    .withColumn(\"Brake\", col(\"Brake\").cast(BooleanType()).cast(IntegerType()))\n",
    "    .withColumn(\"DRS\", col(\"DRS\").cast(IntegerType()))\n",
    "    .withColumn(\n",
    "        \"DataCollectionTime\", split(regexp_replace(col(\"Time\"), r\"^0 days \", \"\"), \":\").getItem(0).cast(\"int\") * 3600 +\n",
    "        split(regexp_replace(col(\"Time\"), r\"^0 days \", \"\"), \":\").getItem(1).cast(\"int\") * 60 +\n",
    "        split(regexp_replace(col(\"Time\"), r\"^0 days \", \"\"), \":\").getItem(2).cast(\"double\")\n",
    "    )\n",
    "    .withColumn(\n",
    "        \"SessionTime\", split(regexp_replace(col(\"SessionTime\"), r\"^0 days \", \"\"), \":\").getItem(0).cast(\"int\") * 3600 +\n",
    "        split(regexp_replace(col(\"SessionTime\"), r\"^0 days \", \"\"), \":\").getItem(1).cast(\"int\") * 60 +\n",
    "        split(regexp_replace(col(\"SessionTime\"), r\"^0 days \", \"\"), \":\").getItem(2).cast(\"double\")\n",
    "    )\n",
    "    .withColumn(\"Distance\", col(\"Distance\").cast(FloatType()))\n",
    "    .withColumn(\"LapNumber\", col(\"LapNumber\").cast(IntegerType()))\n",
    "    .withColumn(\"Year\", col(\"Year\").cast(IntegerType()))\n",
    "    .withColumn(\n",
    "        \"IsDRSActive\", when(\n",
    "            col(\"DRS\").isin(10, 12, 14), 1\n",
    "        ).otherwise(0)\n",
    "    )\n",
    ")\n",
    "\n",
    "telemetry_data = telemetry_data.drop(col(\"Time\"))"
   ]
  },
  {
   "cell_type": "code",
   "execution_count": 17,
   "id": "095adaa3",
   "metadata": {},
   "outputs": [],
   "source": [
    "# # Show the result\n",
    "# telemetry_data.show(1)"
   ]
  },
  {
   "cell_type": "markdown",
   "id": "c5f788ef",
   "metadata": {},
   "source": [
    "**Feature Engineering**"
   ]
  },
  {
   "cell_type": "code",
   "execution_count": 18,
   "id": "8d332796",
   "metadata": {},
   "outputs": [],
   "source": [
    "# Define window\n",
    "window_spec = Window.partitionBy(\"Year\", \"EventName\", \"Driver\", \"LapNumber\").orderBy(\"SessionTime\")\n",
    "last_50_window = window_spec.rowsBetween(-49, 0)"
   ]
  },
  {
   "cell_type": "code",
   "execution_count": 19,
   "id": "e0f24cc6",
   "metadata": {},
   "outputs": [],
   "source": [
    "# Compute per-lap aggregates\n",
    "telemetry_data = (\n",
    "    telemetry_data\n",
    "    .withColumn(\"avg_speed_last_lap\", avg(\"Speed\").over(window_spec))\n",
    "    .withColumn(\"max_speed_last_lap\", max(\"Speed\").over(window_spec))\n",
    "    .withColumn(\"avg_throttle_last_lap\", avg(\"Throttle\").over(window_spec))\n",
    "    .withColumn(\"avg_brake_last_lap\", avg(\"Brake\").over(window_spec))\n",
    "    .withColumn(\"avg_rpm\", avg(\"RPM\").over(window_spec))\n",
    "    .withColumn(\"gear_change\", when(col(\"nGear\") != lag(\"nGear\").over(window_spec), 1).otherwise(0))\n",
    "    .withColumn(\"gear_change_count\", sum(\"gear_change\").over(window_spec))\n",
    "    .withColumn(\n",
    "        \"DRS_activation_count\",\n",
    "        sum(\n",
    "            when(\n",
    "                (~lag(\"DRS\").over(window_spec).isin(10, 12, 14)) & (col(\"DRS\").isin(10, 12, 14)),\n",
    "                1\n",
    "            ).otherwise(0)\n",
    "        ).over(window_spec.rowsBetween(Window.unboundedPreceding, 0))\n",
    "    )\n",
    ")"
   ]
  },
  {
   "cell_type": "code",
   "execution_count": 20,
   "id": "b2fb68c8",
   "metadata": {},
   "outputs": [],
   "source": [
    "# Rolling features over last 50 telemetry rows\n",
    "telemetry_data = (\n",
    "    telemetry_data\n",
    "    .withColumn(\"rolling_throttle_mean\", avg(\"Throttle\").over(last_50_window))\n",
    "    .withColumn(\"rolling_brake_intensity\", avg(\"Brake\").over(last_50_window))\n",
    "    .withColumn(\"rolling_gear_change\", when(col(\"nGear\") != lag(\"nGear\").over(window_spec), 1).otherwise(0))\n",
    "    .withColumn(\"rolling_gear_change_rate\", avg(\"rolling_gear_change\").over(last_50_window))\n",
    "    .withColumn(\"rolling_speed_mean\", avg(\"Speed\").over(last_50_window))\n",
    ")"
   ]
  },
  {
   "cell_type": "code",
   "execution_count": 21,
   "id": "9288123a",
   "metadata": {},
   "outputs": [],
   "source": [
    "# Final sector features (define final 5% of distance per lap)\n",
    "max_distance = telemetry_data.groupBy(\"Year\", \"EventName\", \"Driver\", \"LapNumber\").agg(max(\"Distance\").alias(\"max_dist\"))\n",
    "telemetry_data = telemetry_data.join(max_distance, on=[\"Year\", \"EventName\", \"Driver\", \"LapNumber\"])\n",
    "telemetry_data = telemetry_data.withColumn(\"in_final_sector\", col(\"Distance\") >= col(\"max_dist\") * 0.95)\n",
    "\n",
    "# Define new window\n",
    "final_sector_window = Window.partitionBy(\"Year\", \"EventName\", \"Driver\", \"LapNumber\").rowsBetween(Window.unboundedPreceding, Window.unboundedFollowing)\n",
    "\n",
    "telemetry_data = (\n",
    "    telemetry_data\n",
    "    .withColumn(\"final_sector_avg_speed\", avg(when(col(\"in_final_sector\"), col(\"Speed\"))).over(final_sector_window))\n",
    "    .withColumn(\"final_sector_throttle\", avg(when(col(\"in_final_sector\"), col(\"Throttle\"))).over(final_sector_window))\n",
    "    .withColumn(\"final_sector_brake\", avg(when(col(\"in_final_sector\"), col(\"Brake\"))).over(final_sector_window))\n",
    ")"
   ]
  },
  {
   "cell_type": "code",
   "execution_count": 22,
   "id": "094b2d39",
   "metadata": {},
   "outputs": [],
   "source": [
    "# telemetry_data.show(1)"
   ]
  },
  {
   "cell_type": "code",
   "execution_count": 23,
   "id": "2d5ac13d",
   "metadata": {},
   "outputs": [],
   "source": [
    "# Select final per-lap features\n",
    "lap_feature_cols = [\n",
    "    \"EventName\", \"Driver\", \"LapNumber\", \"Year\", \"Session\",\n",
    "    \"avg_speed_last_lap\", \"max_speed_last_lap\",\n",
    "    \"avg_throttle_last_lap\", \"avg_brake_last_lap\",\n",
    "    \"gear_change_count\", \"avg_rpm\",\n",
    "    \"rolling_throttle_mean\", \"rolling_brake_intensity\",\n",
    "    \"rolling_gear_change_rate\", \"rolling_speed_mean\",\n",
    "    \"final_sector_avg_speed\", \"final_sector_throttle\", \n",
    "    \"final_sector_brake\"\n",
    "]\n",
    "\n",
    "# For all columns, take the FIRST value per (Driver, LapNumber)\n",
    "# Because window functions already populated each row with the same value within each lap\n",
    "aggregated_laps = (\n",
    "    telemetry_data\n",
    "    .select(*lap_feature_cols)\n",
    "    .groupBy(\"Year\", \"EventName\", \"Session\", \"Driver\", \"LapNumber\")\n",
    "    .agg(*[\n",
    "        first(col_name).alias(col_name) \n",
    "        if col_name != \"DRS_activation_count\" \n",
    "        else last(col_name).alias(col_name) \n",
    "        for col_name in lap_feature_cols \n",
    "        if col_name not in (\"Year\", \"EventName\", \"Session\", \"Driver\", \"LapNumber\")\n",
    "    ])\n",
    ")"
   ]
  },
  {
   "cell_type": "code",
   "execution_count": 24,
   "id": "d4892b19",
   "metadata": {},
   "outputs": [],
   "source": [
    "# aggregated_laps.show(5)"
   ]
  },
  {
   "cell_type": "markdown",
   "id": "123c6a39",
   "metadata": {},
   "source": [
    "### Joining the Data"
   ]
  },
  {
   "cell_type": "code",
   "execution_count": 25,
   "id": "4999694b",
   "metadata": {},
   "outputs": [],
   "source": [
    "# Join lap_data and telemetry_data\n",
    "data = (\n",
    "    lap_data\n",
    "    .alias('lap')\n",
    "    .join(\n",
    "        aggregated_laps.alias('telemetry')\n",
    "        ,on=[\"Year\", \"EventName\", \"Session\", \"Driver\", \"LapNumber\"]\n",
    "        ,how=\"outer\"\n",
    "    )\n",
    ")"
   ]
  },
  {
   "cell_type": "code",
   "execution_count": 26,
   "id": "ec477f28",
   "metadata": {},
   "outputs": [],
   "source": [
    "# Create target variable\n",
    "data = (\n",
    "    data\n",
    "    .withColumn(\n",
    "        \"WillPitNextLap\", when(\n",
    "            lead(\"PitInTime\", 1).over(Window.partitionBy(\"Year\", \"EventName\", \"Session\", \"Driver\").orderBy(\"LapNumber\")).isNotNull(), 1\n",
    "        )\n",
    "    .otherwise(0)\n",
    "    )\n",
    ")\n",
    "\n",
    "# data = data.drop(\"PitInTime\")"
   ]
  },
  {
   "cell_type": "code",
   "execution_count": 27,
   "id": "65edc10d",
   "metadata": {},
   "outputs": [],
   "source": [
    "# data.show(1)"
   ]
  },
  {
   "cell_type": "code",
   "execution_count": 28,
   "id": "9271ea27",
   "metadata": {},
   "outputs": [],
   "source": [
    "# data.printSchema()"
   ]
  },
  {
   "cell_type": "markdown",
   "id": "e1fde46b",
   "metadata": {},
   "source": [
    "**Handling Missing Values**"
   ]
  },
  {
   "cell_type": "code",
   "execution_count": 29,
   "id": "024c4551",
   "metadata": {},
   "outputs": [],
   "source": [
    "# # Compute null counts\n",
    "# null_counts = data.select([sum(col(c).isNull().cast(\"int\")).alias(c) for c in data.columns])\n",
    "\n",
    "# # Convert to a Row to filter in Python\n",
    "# null_counts_dict = null_counts.first().asDict()\n",
    "\n",
    "# # Filter and print only columns with nulls\n",
    "# for col_name, count in null_counts_dict.items():\n",
    "#     if count > 0:\n",
    "#         print(f\"{col_name}: {count}\")"
   ]
  },
  {
   "cell_type": "markdown",
   "id": "d6faa6f1",
   "metadata": {},
   "source": [
    "LapTime"
   ]
  },
  {
   "cell_type": "code",
   "execution_count": 30,
   "id": "4ab15d0b",
   "metadata": {},
   "outputs": [],
   "source": [
    "# # Check missing values\n",
    "# data.filter(col(\"LapTime\").isNull()).count()"
   ]
  },
  {
   "cell_type": "code",
   "execution_count": 31,
   "id": "a961ad13",
   "metadata": {},
   "outputs": [],
   "source": [
    "# # Check rows with missing values\n",
    "# data.filter(col(\"LapTime\").isNull()).show(5)"
   ]
  },
  {
   "cell_type": "code",
   "execution_count": 32,
   "id": "d9d06d3b",
   "metadata": {},
   "outputs": [],
   "source": [
    "# Rows with NULL LapTime and Sector<1, 2, 3>Time are DNF so we drop these rows\n",
    "data = (\n",
    "    data\n",
    "    .filter(~(\n",
    "        col(\"Sector1Time\").isNull() & \n",
    "        col(\"Sector2Time\").isNull() & \n",
    "        col(\"Sector3Time\").isNull() & \n",
    "        col(\"LapTime\").isNull()\n",
    "    ))\n",
    ")"
   ]
  },
  {
   "cell_type": "code",
   "execution_count": 33,
   "id": "ecbdb38c",
   "metadata": {},
   "outputs": [],
   "source": [
    "# Remove SectorTime columns\n",
    "data = data.drop(\"Sector1Time\", \"Sector2Time\", \"Sector3Time\")"
   ]
  },
  {
   "cell_type": "code",
   "execution_count": 34,
   "id": "00de1b6d",
   "metadata": {},
   "outputs": [],
   "source": [
    "# # Recheck\n",
    "# data.filter(col(\"LapTime\").isNull()).count()"
   ]
  },
  {
   "cell_type": "code",
   "execution_count": 35,
   "id": "067cc6c2",
   "metadata": {},
   "outputs": [],
   "source": [
    "# Fix missing values - compute by subtracting the time at the end and at the start of the lap\n",
    "data = data.withColumn(\"LapTime\", col(\"LapSessionTime\") - col(\"LapStartTime\"))"
   ]
  },
  {
   "cell_type": "code",
   "execution_count": 36,
   "id": "77dc1c69",
   "metadata": {},
   "outputs": [],
   "source": [
    "# # Recheck\n",
    "# data.filter(col(\"LapTime\").isNull()).count()"
   ]
  },
  {
   "cell_type": "markdown",
   "id": "abfdfc1f",
   "metadata": {},
   "source": [
    "Missing values recheck, since DNF rows were removed."
   ]
  },
  {
   "cell_type": "code",
   "execution_count": 37,
   "id": "4053957d",
   "metadata": {},
   "outputs": [],
   "source": [
    "# # Compute null counts\n",
    "# null_counts = data.select([sum(col(c).isNull().cast(\"int\")).alias(c) for c in data.columns])\n",
    "\n",
    "# # Convert to a Row to filter in Python\n",
    "# null_counts_dict = null_counts.first().asDict()\n",
    "\n",
    "# # Filter and print only columns with nulls\n",
    "# for col_name, count in null_counts_dict.items():\n",
    "#     if count > 0:\n",
    "#         print(f\"{col_name}: {count}\")"
   ]
  },
  {
   "cell_type": "markdown",
   "id": "f836904c",
   "metadata": {},
   "source": [
    "SpeedI1, SpeedI2, SpeedFL, SpeedST"
   ]
  },
  {
   "cell_type": "code",
   "execution_count": 38,
   "id": "66719c5c",
   "metadata": {},
   "outputs": [],
   "source": [
    "# # Check missing values\n",
    "# data.filter(\n",
    "#     col(\"SpeedI1\").isNull() |\n",
    "#     col(\"SpeedI2\").isNull() |\n",
    "#     col(\"SpeedFL\").isNull() |\n",
    "#     col(\"SpeedST\").isNull()\n",
    "# ).count()"
   ]
  },
  {
   "cell_type": "code",
   "execution_count": 39,
   "id": "1527917e",
   "metadata": {},
   "outputs": [],
   "source": [
    "# Fill missing values - speed rolling average\n",
    "driver_lap_window = Window.partitionBy(\"Year\", \"EventName\", \"Session\", \"Driver\").orderBy(\"LapNumber\").rowsBetween(Window.unboundedPreceding, -1)\n",
    "\n",
    "# List of columns to process\n",
    "speed_cols = [\"SpeedI1\", \"SpeedI2\", \"SpeedFL\", \"SpeedST\"]\n",
    "\n",
    "# Fill missing values\n",
    "for col_name in speed_cols:\n",
    "    cumulative_avg = avg(col(col_name)).over(driver_lap_window)\n",
    "    data = (\n",
    "        data\n",
    "        .withColumn(\n",
    "            col_name,\n",
    "            when(col(col_name).isNull(), cumulative_avg).otherwise(col(col_name))\n",
    "        )\n",
    "    )"
   ]
  },
  {
   "cell_type": "code",
   "execution_count": 40,
   "id": "783fa22e",
   "metadata": {},
   "outputs": [],
   "source": [
    "# # Recheck\n",
    "# data.filter(\n",
    "#     col(\"SpeedI1\").isNull() |\n",
    "#     col(\"SpeedI2\").isNull() |\n",
    "#     col(\"SpeedFL\").isNull() |\n",
    "#     col(\"SpeedST\").isNull()\n",
    "# ).count()"
   ]
  },
  {
   "cell_type": "code",
   "execution_count": 41,
   "id": "5262c9c1",
   "metadata": {},
   "outputs": [],
   "source": [
    "# # Recheck\n",
    "# data.filter(\n",
    "#     col(\"SpeedI1\").isNull() |\n",
    "#     col(\"SpeedI2\").isNull() |\n",
    "#     col(\"SpeedFL\").isNull() |\n",
    "#     col(\"SpeedST\").isNull()\n",
    "# ).show(1)"
   ]
  },
  {
   "cell_type": "code",
   "execution_count": 42,
   "id": "8ad1984d",
   "metadata": {},
   "outputs": [],
   "source": [
    "# Fill missing values - teammate's speed in same lap\n",
    "\n",
    "# Self-join on teammate info\n",
    "teammate_join = data.alias(\"self\").join(\n",
    "    data.alias(\"tm\"),\n",
    "    on=[\n",
    "        col(\"self.Year\") == col(\"tm.Year\"),\n",
    "        col(\"self.EventName\") == col(\"tm.EventName\"),\n",
    "        col(\"self.Session\") == col(\"tm.Session\"),\n",
    "        col(\"self.Team\") == col(\"tm.Team\"),\n",
    "        col(\"self.LapNumber\") == col(\"tm.LapNumber\"),\n",
    "        col(\"self.Driver\") != col(\"tm.Driver\")\n",
    "    ],\n",
    "    how=\"left\"\n",
    ")\n",
    "\n",
    "# Replace missing values from teammate values\n",
    "updated_cols = [\n",
    "    coalesce(col(f\"self.{col_name}\"), col(f\"tm.{col_name}\")).alias(col_name)\n",
    "    if col_name in speed_cols else col(f\"self.{col_name}\")\n",
    "    for col_name in data.columns\n",
    "]\n",
    "\n",
    "# Assign back to `data` (replacing the original one)\n",
    "data = teammate_join.select(*updated_cols)"
   ]
  },
  {
   "cell_type": "code",
   "execution_count": 43,
   "id": "9181286d",
   "metadata": {},
   "outputs": [],
   "source": [
    "# # Recheck\n",
    "# data.filter(\n",
    "#     col(\"SpeedI1\").isNull() |\n",
    "#     col(\"SpeedI2\").isNull() |\n",
    "#     col(\"SpeedFL\").isNull() |\n",
    "#     col(\"SpeedST\").isNull()\n",
    "# ).count()"
   ]
  },
  {
   "cell_type": "code",
   "execution_count": 44,
   "id": "c20c4576",
   "metadata": {},
   "outputs": [],
   "source": [
    "# Fill missing values - finish line speed with longest straight speed\n",
    "data = (\n",
    "    data\n",
    "    .withColumn(\n",
    "        \"SpeedFL\",\n",
    "        when(col(\"SpeedFL\").isNull(), col(\"SpeedST\")).otherwise(col(\"SpeedFL\"))\n",
    "    )\n",
    ")"
   ]
  },
  {
   "cell_type": "code",
   "execution_count": 45,
   "id": "4c4e862f",
   "metadata": {},
   "outputs": [],
   "source": [
    "# # Recheck\n",
    "# data.filter(\n",
    "#     col(\"SpeedI1\").isNull() |\n",
    "#     col(\"SpeedI2\").isNull() |\n",
    "#     col(\"SpeedFL\").isNull() |\n",
    "#     col(\"SpeedST\").isNull()\n",
    "# ).count()"
   ]
  },
  {
   "cell_type": "markdown",
   "id": "20c0246f",
   "metadata": {},
   "source": [
    "pit_stop_duration"
   ]
  },
  {
   "cell_type": "code",
   "execution_count": 46,
   "id": "8d1093e5",
   "metadata": {},
   "outputs": [],
   "source": [
    "# # Check missing values\n",
    "# data.filter(\n",
    "#     col(\"pit_stop_duration\").isNull()\n",
    "# ).count()"
   ]
  },
  {
   "cell_type": "code",
   "execution_count": 47,
   "id": "3e7abdb8",
   "metadata": {},
   "outputs": [],
   "source": [
    "# # Check missing values\n",
    "# data.filter(\n",
    "#     col(\"pit_stop_duration\").isNull()\n",
    "# ).show(3)"
   ]
  },
  {
   "cell_type": "code",
   "execution_count": 48,
   "id": "0db32852",
   "metadata": {},
   "outputs": [],
   "source": [
    "# These values seem to be mistakes, so we set PitOutTime to NULL and recompute pit_stop_duration and max_pit_stop_duration\n",
    "data = (\n",
    "    data\n",
    "    .withColumn(\n",
    "        \"PitOutTime\",\n",
    "        when(col(\"pit_stop_duration\").isNull(), None).otherwise(col(\"PitOutTime\"))\n",
    "    )\n",
    "    .withColumn(\n",
    "        \"pit_stop_duration\",\n",
    "        when(\n",
    "            col(\"PitOutTime\").isNull(),\n",
    "            lit(0)\n",
    "        ).otherwise(\n",
    "            col(\"PitOutTime\") - lag(\"PitInTime\").over(lap_order_window)\n",
    "        )\n",
    "    )\n",
    "    .withColumn(\"max_pit_stop_duration\", max(\"pit_stop_duration\").over(lap_order_window))\n",
    ")"
   ]
  },
  {
   "cell_type": "code",
   "execution_count": 49,
   "id": "6bdc2a93",
   "metadata": {},
   "outputs": [],
   "source": [
    "# # Recheck\n",
    "# data.filter(\n",
    "#     col(\"pit_stop_duration\").isNull()\n",
    "# ).count()"
   ]
  },
  {
   "cell_type": "markdown",
   "id": "cf43db11",
   "metadata": {},
   "source": [
    "max_pit_stop_duration"
   ]
  },
  {
   "cell_type": "code",
   "execution_count": 50,
   "id": "eca96008",
   "metadata": {},
   "outputs": [],
   "source": [
    "# # Check missing values\n",
    "# data.filter(\n",
    "#     col(\"max_pit_stop_duration\").isNull()\n",
    "# ).count()\n",
    "\n",
    "# # No more :)"
   ]
  },
  {
   "cell_type": "code",
   "execution_count": 51,
   "id": "c07a1ee0",
   "metadata": {},
   "outputs": [],
   "source": [
    "# # Compute null counts\n",
    "# null_counts = data.select([sum(col(c).isNull().cast(\"int\")).alias(c) for c in data.columns])\n",
    "\n",
    "# # Convert to a Row to filter in Python\n",
    "# null_counts_dict = null_counts.first().asDict()\n",
    "\n",
    "# # Filter and print only columns with nulls\n",
    "# for col_name, count in null_counts_dict.items():\n",
    "#     if count > 0:\n",
    "#         print(f\"{col_name}: {count}\")"
   ]
  },
  {
   "cell_type": "markdown",
   "id": "6ef11b74",
   "metadata": {},
   "source": [
    "## Data Modelling"
   ]
  },
  {
   "cell_type": "code",
   "execution_count": 52,
   "id": "e1a06aac",
   "metadata": {},
   "outputs": [],
   "source": [
    "# Convert categorical features to numerical values\n",
    "indexers = [\n",
    "    StringIndexer(inputCol=\"Team\", outputCol=\"TeamIndex\"),\n",
    "    StringIndexer(inputCol=\"Compound\", outputCol=\"CompoundIndex\"),\n",
    "    StringIndexer(inputCol=\"Driver\", outputCol=\"DriverIndex\"),\n",
    "    StringIndexer(inputCol=\"EventName\", outputCol=\"EventNameIndex\")\n",
    "]"
   ]
  },
  {
   "cell_type": "code",
   "execution_count": 53,
   "id": "5e2bb08b",
   "metadata": {},
   "outputs": [],
   "source": [
    "# Assemble all features into a single vector column for the model\n",
    "feature_columns = [\n",
    "    # Telemetry / strategy features\n",
    "    'Year', 'LapNumber', 'Stint', 'TyreLife', 'FreshTyre', 'TrackStatus',\n",
    "    'Position', 'rolling_avg_laptime', 'laps_since_last_pit',\n",
    "    'pit_stop_duration', 'max_pit_stop_duration',\n",
    "    'position_change_since_race_start',\n",
    "    'avg_speed_last_lap', 'avg_throttle_last_lap', 'avg_brake_last_lap',\n",
    "    'avg_rpm', 'gear_change_count',\n",
    "    'rolling_throttle_mean', 'rolling_brake_intensity',\n",
    "    'rolling_gear_change_rate', 'rolling_speed_mean',\n",
    "    'final_sector_avg_speed', 'final_sector_throttle', 'final_sector_brake',\n",
    "\n",
    "    # Categorical features (indexed)\n",
    "    'TeamIndex', 'CompoundIndex', 'DriverIndex', 'EventNameIndex'\n",
    "]\n",
    "assembler = VectorAssembler(inputCols=feature_columns, outputCol=\"features\")"
   ]
  },
  {
   "cell_type": "code",
   "execution_count": 54,
   "id": "42778efb",
   "metadata": {},
   "outputs": [],
   "source": [
    "# Train test split\n",
    "train_data = data.filter(~((col(\"EventName\") == \"Abu Dhabi Grand Prix\") & (col(\"Year\") == 2023)))\n",
    "test_data = data.filter((col(\"EventName\") == \"Abu Dhabi Grand Prix\") & (col(\"Year\") == 2023))"
   ]
  },
  {
   "cell_type": "code",
   "execution_count": 56,
   "id": "7e3c6a3e",
   "metadata": {},
   "outputs": [],
   "source": [
    "# Build the model\n",
    "classifier = RandomForestClassifier(labelCol=\"WillPitNextLap\", featuresCol=\"features\")\n",
    "\n",
    "# Define the pipeline\n",
    "pipeline = Pipeline(stages=indexers + [assembler, classifier])"
   ]
  },
  {
   "cell_type": "code",
   "execution_count": 57,
   "id": "d0133b6b",
   "metadata": {},
   "outputs": [
    {
     "name": "stderr",
     "output_type": "stream",
     "text": [
      "[Stage 331:==================================================>      (8 + 1) / 9]\r"
     ]
    }
   ],
   "source": [
    "# Train the model\n",
    "model = pipeline.fit(train_data)"
   ]
  },
  {
   "cell_type": "code",
   "execution_count": 58,
   "id": "fa5a0052",
   "metadata": {},
   "outputs": [],
   "source": [
    "# Make predictions on the test set\n",
    "predictions = model.transform(test_data)"
   ]
  },
  {
   "cell_type": "code",
   "execution_count": 60,
   "id": "f5448845",
   "metadata": {},
   "outputs": [
    {
     "name": "stderr",
     "output_type": "stream",
     "text": [
      "[Stage 366:==================================================>      (8 + 1) / 9]\r"
     ]
    },
    {
     "name": "stdout",
     "output_type": "stream",
     "text": [
      "+--------------------+--------------+----------+\n",
      "|            features|WillPitNextLap|prediction|\n",
      "+--------------------+--------------+----------+\n",
      "|[2023.0,1.0,1.0,2...|             0|       0.0|\n",
      "|[2023.0,2.0,1.0,3...|             0|       0.0|\n",
      "|[2023.0,3.0,1.0,4...|             0|       0.0|\n",
      "|[2023.0,4.0,1.0,5...|             0|       0.0|\n",
      "|[2023.0,5.0,1.0,6...|             0|       0.0|\n",
      "|[2023.0,6.0,1.0,7...|             0|       0.0|\n",
      "|[2023.0,7.0,1.0,8...|             0|       0.0|\n",
      "|[2023.0,8.0,1.0,9...|             0|       0.0|\n",
      "|[2023.0,9.0,1.0,1...|             0|       0.0|\n",
      "|[2023.0,10.0,1.0,...|             0|       0.0|\n",
      "|[2023.0,11.0,1.0,...|             0|       0.0|\n",
      "|[2023.0,12.0,1.0,...|             0|       0.0|\n",
      "|[2023.0,13.0,1.0,...|             0|       0.0|\n",
      "|[2023.0,14.0,1.0,...|             0|       0.0|\n",
      "|[2023.0,15.0,1.0,...|             1|       0.0|\n",
      "|[2023.0,16.0,1.0,...|             0|       0.0|\n",
      "|[2023.0,17.0,2.0,...|             0|       0.0|\n",
      "|[2023.0,18.0,2.0,...|             0|       0.0|\n",
      "|[2023.0,19.0,2.0,...|             0|       0.0|\n",
      "|[2023.0,20.0,2.0,...|             0|       0.0|\n",
      "+--------------------+--------------+----------+\n",
      "only showing top 20 rows\n",
      "\n"
     ]
    },
    {
     "name": "stderr",
     "output_type": "stream",
     "text": [
      "                                                                                \r"
     ]
    }
   ],
   "source": [
    "predictions.select(\"features\", \"WillPitNextLap\", \"prediction\").show()"
   ]
  },
  {
   "cell_type": "code",
   "execution_count": 61,
   "id": "93499e7c",
   "metadata": {},
   "outputs": [],
   "source": [
    "# Define the evaluator\n",
    "evaluator = BinaryClassificationEvaluator(labelCol=\"WillPitNextLap\", metricName=\"areaUnderPR\")"
   ]
  },
  {
   "cell_type": "code",
   "execution_count": 62,
   "id": "ded52818",
   "metadata": {},
   "outputs": [
    {
     "name": "stderr",
     "output_type": "stream",
     "text": [
      "[Stage 408:==================================================>      (8 + 1) / 9]\r"
     ]
    },
    {
     "name": "stdout",
     "output_type": "stream",
     "text": [
      "areaUnderPR: 0.13370017139227544\n"
     ]
    },
    {
     "name": "stderr",
     "output_type": "stream",
     "text": [
      "                                                                                \r"
     ]
    }
   ],
   "source": [
    "# Evaluate and print the areaUnderPR score\n",
    "aupr = evaluator.evaluate(predictions)\n",
    "print(f\"areaUnderPR: {aupr}\")"
   ]
  }
 ],
 "metadata": {
  "kernelspec": {
   "display_name": "bda",
   "language": "python",
   "name": "python3"
  },
  "language_info": {
   "codemirror_mode": {
    "name": "ipython",
    "version": 3
   },
   "file_extension": ".py",
   "mimetype": "text/x-python",
   "name": "python",
   "nbconvert_exporter": "python",
   "pygments_lexer": "ipython3",
   "version": "3.12.9"
  }
 },
 "nbformat": 4,
 "nbformat_minor": 5
}
